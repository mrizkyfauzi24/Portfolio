{
  "cells": [
    {
      "cell_type": "code",
      "execution_count": 1,
      "metadata": {
        "id": "LDJk8NOl3I19"
      },
      "outputs": [],
      "source": [
        "import pandas as pd\n",
        "import warnings\n",
        "warnings.filterwarnings('ignore')"
      ]
    },
    {
      "cell_type": "code",
      "execution_count": 2,
      "metadata": {},
      "outputs": [
        {
          "name": "stdout",
          "output_type": "stream",
          "text": [
            "Requirement already satisfied: kaggle in d:\\program\\anaconda\\lib\\site-packages (1.5.13)\n",
            "Requirement already satisfied: six>=1.10 in d:\\program\\anaconda\\lib\\site-packages (from kaggle) (1.16.0)\n",
            "Requirement already satisfied: certifi in d:\\program\\anaconda\\lib\\site-packages (from kaggle) (2022.9.14)\n",
            "Requirement already satisfied: urllib3 in d:\\program\\anaconda\\lib\\site-packages (from kaggle) (1.26.11)\n",
            "Requirement already satisfied: tqdm in d:\\program\\anaconda\\lib\\site-packages (from kaggle) (4.64.1)\n",
            "Requirement already satisfied: requests in d:\\program\\anaconda\\lib\\site-packages (from kaggle) (2.28.1)\n",
            "Requirement already satisfied: python-dateutil in d:\\program\\anaconda\\lib\\site-packages (from kaggle) (2.8.2)\n",
            "Requirement already satisfied: python-slugify in d:\\program\\anaconda\\lib\\site-packages (from kaggle) (5.0.2)\n",
            "Requirement already satisfied: text-unidecode>=1.3 in d:\\program\\anaconda\\lib\\site-packages (from python-slugify->kaggle) (1.3)\n",
            "Requirement already satisfied: charset-normalizer<3,>=2 in d:\\program\\anaconda\\lib\\site-packages (from requests->kaggle) (2.0.4)\n",
            "Requirement already satisfied: idna<4,>=2.5 in d:\\program\\anaconda\\lib\\site-packages (from requests->kaggle) (3.3)\n",
            "Requirement already satisfied: colorama in d:\\program\\anaconda\\lib\\site-packages (from tqdm->kaggle) (0.4.5)\n",
            "Note: you may need to restart the kernel to use updated packages.\n"
          ]
        }
      ],
      "source": [
        "pip install  kaggle"
      ]
    },
    {
      "cell_type": "code",
      "execution_count": 3,
      "metadata": {},
      "outputs": [],
      "source": [
        "import pandas as pd\n",
        "import zipfile\n",
        "import kaggle"
      ]
    },
    {
      "cell_type": "code",
      "execution_count": 4,
      "metadata": {},
      "outputs": [],
      "source": [
        "import kaggle"
      ]
    },
    {
      "cell_type": "code",
      "execution_count": 5,
      "metadata": {},
      "outputs": [
        {
          "name": "stdout",
          "output_type": "stream",
          "text": [
            "london-bike-sharing-dataset.zip: Skipping, found more recently modified local copy (use --force to force download)\n"
          ]
        }
      ],
      "source": [
        "!kaggle datasets download -d hmavrodiev/london-bike-sharing-dataset"
      ]
    },
    {
      "cell_type": "code",
      "execution_count": 6,
      "metadata": {},
      "outputs": [],
      "source": [
        "zipfile_name= 'london-bike-sharing-dataset.zip'\n",
        "with zipfile.ZipFile(zipfile_name,'r') as file:\n",
        "    file.extractall()"
      ]
    },
    {
      "cell_type": "code",
      "execution_count": 7,
      "metadata": {
        "id": "Qbk5_onQLttj"
      },
      "outputs": [],
      "source": [
        "bikes= pd.read_csv('london_merged.csv')"
      ]
    },
    {
      "cell_type": "code",
      "execution_count": 8,
      "metadata": {
        "colab": {
          "base_uri": "https://localhost:8080/"
        },
        "id": "5bNyP5WIMv2g",
        "outputId": "26b63e86-25c8-468c-8a4a-8b8bbfd573ca"
      },
      "outputs": [
        {
          "name": "stdout",
          "output_type": "stream",
          "text": [
            "<class 'pandas.core.frame.DataFrame'>\n",
            "RangeIndex: 17414 entries, 0 to 17413\n",
            "Data columns (total 10 columns):\n",
            " #   Column        Non-Null Count  Dtype  \n",
            "---  ------        --------------  -----  \n",
            " 0   timestamp     17414 non-null  object \n",
            " 1   cnt           17414 non-null  int64  \n",
            " 2   t1            17414 non-null  float64\n",
            " 3   t2            17414 non-null  float64\n",
            " 4   hum           17414 non-null  float64\n",
            " 5   wind_speed    17414 non-null  float64\n",
            " 6   weather_code  17414 non-null  float64\n",
            " 7   is_holiday    17414 non-null  float64\n",
            " 8   is_weekend    17414 non-null  float64\n",
            " 9   season        17414 non-null  float64\n",
            "dtypes: float64(8), int64(1), object(1)\n",
            "memory usage: 1.3+ MB\n"
          ]
        }
      ],
      "source": [
        "bikes.info()"
      ]
    },
    {
      "cell_type": "code",
      "execution_count": 9,
      "metadata": {
        "colab": {
          "base_uri": "https://localhost:8080/"
        },
        "id": "_26tiZf3M9ST",
        "outputId": "63d7d696-6324-41c8-df4d-675b3a883f22"
      },
      "outputs": [
        {
          "data": {
            "text/plain": [
              "timestamp       0\n",
              "cnt             0\n",
              "t1              0\n",
              "t2              0\n",
              "hum             0\n",
              "wind_speed      0\n",
              "weather_code    0\n",
              "is_holiday      0\n",
              "is_weekend      0\n",
              "season          0\n",
              "dtype: int64"
            ]
          },
          "execution_count": 9,
          "metadata": {},
          "output_type": "execute_result"
        }
      ],
      "source": [
        "bikes.isnull().sum()"
      ]
    },
    {
      "cell_type": "code",
      "execution_count": 10,
      "metadata": {
        "colab": {
          "base_uri": "https://localhost:8080/"
        },
        "id": "RY_dYcrjNEyH",
        "outputId": "9cc2fb4b-56a4-4e12-ee5e-c78cc1e7775d"
      },
      "outputs": [
        {
          "data": {
            "text/plain": [
              "(17414, 10)"
            ]
          },
          "execution_count": 10,
          "metadata": {},
          "output_type": "execute_result"
        }
      ],
      "source": [
        "bikes.shape"
      ]
    },
    {
      "cell_type": "code",
      "execution_count": 11,
      "metadata": {
        "colab": {
          "base_uri": "https://localhost:8080/",
          "height": 300
        },
        "id": "-4zT-3EMNpNP",
        "outputId": "375071b2-e663-4a24-b994-019d3e9dc246"
      },
      "outputs": [
        {
          "data": {
            "text/html": [
              "<div>\n",
              "<style scoped>\n",
              "    .dataframe tbody tr th:only-of-type {\n",
              "        vertical-align: middle;\n",
              "    }\n",
              "\n",
              "    .dataframe tbody tr th {\n",
              "        vertical-align: top;\n",
              "    }\n",
              "\n",
              "    .dataframe thead th {\n",
              "        text-align: right;\n",
              "    }\n",
              "</style>\n",
              "<table border=\"1\" class=\"dataframe\">\n",
              "  <thead>\n",
              "    <tr style=\"text-align: right;\">\n",
              "      <th></th>\n",
              "      <th>cnt</th>\n",
              "      <th>t1</th>\n",
              "      <th>t2</th>\n",
              "      <th>hum</th>\n",
              "      <th>wind_speed</th>\n",
              "      <th>weather_code</th>\n",
              "      <th>is_holiday</th>\n",
              "      <th>is_weekend</th>\n",
              "      <th>season</th>\n",
              "    </tr>\n",
              "  </thead>\n",
              "  <tbody>\n",
              "    <tr>\n",
              "      <th>count</th>\n",
              "      <td>17414.000000</td>\n",
              "      <td>17414.000000</td>\n",
              "      <td>17414.000000</td>\n",
              "      <td>17414.000000</td>\n",
              "      <td>17414.000000</td>\n",
              "      <td>17414.000000</td>\n",
              "      <td>17414.000000</td>\n",
              "      <td>17414.000000</td>\n",
              "      <td>17414.000000</td>\n",
              "    </tr>\n",
              "    <tr>\n",
              "      <th>mean</th>\n",
              "      <td>1143.101642</td>\n",
              "      <td>12.468091</td>\n",
              "      <td>11.520836</td>\n",
              "      <td>72.324954</td>\n",
              "      <td>15.913063</td>\n",
              "      <td>2.722752</td>\n",
              "      <td>0.022051</td>\n",
              "      <td>0.285403</td>\n",
              "      <td>1.492075</td>\n",
              "    </tr>\n",
              "    <tr>\n",
              "      <th>std</th>\n",
              "      <td>1085.108068</td>\n",
              "      <td>5.571818</td>\n",
              "      <td>6.615145</td>\n",
              "      <td>14.313186</td>\n",
              "      <td>7.894570</td>\n",
              "      <td>2.341163</td>\n",
              "      <td>0.146854</td>\n",
              "      <td>0.451619</td>\n",
              "      <td>1.118911</td>\n",
              "    </tr>\n",
              "    <tr>\n",
              "      <th>min</th>\n",
              "      <td>0.000000</td>\n",
              "      <td>-1.500000</td>\n",
              "      <td>-6.000000</td>\n",
              "      <td>20.500000</td>\n",
              "      <td>0.000000</td>\n",
              "      <td>1.000000</td>\n",
              "      <td>0.000000</td>\n",
              "      <td>0.000000</td>\n",
              "      <td>0.000000</td>\n",
              "    </tr>\n",
              "    <tr>\n",
              "      <th>25%</th>\n",
              "      <td>257.000000</td>\n",
              "      <td>8.000000</td>\n",
              "      <td>6.000000</td>\n",
              "      <td>63.000000</td>\n",
              "      <td>10.000000</td>\n",
              "      <td>1.000000</td>\n",
              "      <td>0.000000</td>\n",
              "      <td>0.000000</td>\n",
              "      <td>0.000000</td>\n",
              "    </tr>\n",
              "    <tr>\n",
              "      <th>50%</th>\n",
              "      <td>844.000000</td>\n",
              "      <td>12.500000</td>\n",
              "      <td>12.500000</td>\n",
              "      <td>74.500000</td>\n",
              "      <td>15.000000</td>\n",
              "      <td>2.000000</td>\n",
              "      <td>0.000000</td>\n",
              "      <td>0.000000</td>\n",
              "      <td>1.000000</td>\n",
              "    </tr>\n",
              "    <tr>\n",
              "      <th>75%</th>\n",
              "      <td>1671.750000</td>\n",
              "      <td>16.000000</td>\n",
              "      <td>16.000000</td>\n",
              "      <td>83.000000</td>\n",
              "      <td>20.500000</td>\n",
              "      <td>3.000000</td>\n",
              "      <td>0.000000</td>\n",
              "      <td>1.000000</td>\n",
              "      <td>2.000000</td>\n",
              "    </tr>\n",
              "    <tr>\n",
              "      <th>max</th>\n",
              "      <td>7860.000000</td>\n",
              "      <td>34.000000</td>\n",
              "      <td>34.000000</td>\n",
              "      <td>100.000000</td>\n",
              "      <td>56.500000</td>\n",
              "      <td>26.000000</td>\n",
              "      <td>1.000000</td>\n",
              "      <td>1.000000</td>\n",
              "      <td>3.000000</td>\n",
              "    </tr>\n",
              "  </tbody>\n",
              "</table>\n",
              "</div>"
            ],
            "text/plain": [
              "                cnt            t1            t2           hum    wind_speed  \\\n",
              "count  17414.000000  17414.000000  17414.000000  17414.000000  17414.000000   \n",
              "mean    1143.101642     12.468091     11.520836     72.324954     15.913063   \n",
              "std     1085.108068      5.571818      6.615145     14.313186      7.894570   \n",
              "min        0.000000     -1.500000     -6.000000     20.500000      0.000000   \n",
              "25%      257.000000      8.000000      6.000000     63.000000     10.000000   \n",
              "50%      844.000000     12.500000     12.500000     74.500000     15.000000   \n",
              "75%     1671.750000     16.000000     16.000000     83.000000     20.500000   \n",
              "max     7860.000000     34.000000     34.000000    100.000000     56.500000   \n",
              "\n",
              "       weather_code    is_holiday    is_weekend        season  \n",
              "count  17414.000000  17414.000000  17414.000000  17414.000000  \n",
              "mean       2.722752      0.022051      0.285403      1.492075  \n",
              "std        2.341163      0.146854      0.451619      1.118911  \n",
              "min        1.000000      0.000000      0.000000      0.000000  \n",
              "25%        1.000000      0.000000      0.000000      0.000000  \n",
              "50%        2.000000      0.000000      0.000000      1.000000  \n",
              "75%        3.000000      0.000000      1.000000      2.000000  \n",
              "max       26.000000      1.000000      1.000000      3.000000  "
            ]
          },
          "execution_count": 11,
          "metadata": {},
          "output_type": "execute_result"
        }
      ],
      "source": [
        "bikes.describe()"
      ]
    },
    {
      "cell_type": "code",
      "execution_count": 12,
      "metadata": {
        "colab": {
          "base_uri": "https://localhost:8080/",
          "height": 423
        },
        "id": "Tokf1UZ5M3aI",
        "outputId": "40f7434e-e917-4735-f11b-d118020cefb1"
      },
      "outputs": [
        {
          "data": {
            "text/html": [
              "<div>\n",
              "<style scoped>\n",
              "    .dataframe tbody tr th:only-of-type {\n",
              "        vertical-align: middle;\n",
              "    }\n",
              "\n",
              "    .dataframe tbody tr th {\n",
              "        vertical-align: top;\n",
              "    }\n",
              "\n",
              "    .dataframe thead th {\n",
              "        text-align: right;\n",
              "    }\n",
              "</style>\n",
              "<table border=\"1\" class=\"dataframe\">\n",
              "  <thead>\n",
              "    <tr style=\"text-align: right;\">\n",
              "      <th></th>\n",
              "      <th>timestamp</th>\n",
              "      <th>cnt</th>\n",
              "      <th>t1</th>\n",
              "      <th>t2</th>\n",
              "      <th>hum</th>\n",
              "      <th>wind_speed</th>\n",
              "      <th>weather_code</th>\n",
              "      <th>is_holiday</th>\n",
              "      <th>is_weekend</th>\n",
              "      <th>season</th>\n",
              "    </tr>\n",
              "  </thead>\n",
              "  <tbody>\n",
              "    <tr>\n",
              "      <th>0</th>\n",
              "      <td>2015-01-04 00:00:00</td>\n",
              "      <td>182</td>\n",
              "      <td>3.0</td>\n",
              "      <td>2.0</td>\n",
              "      <td>93.0</td>\n",
              "      <td>6.0</td>\n",
              "      <td>3.0</td>\n",
              "      <td>0.0</td>\n",
              "      <td>1.0</td>\n",
              "      <td>3.0</td>\n",
              "    </tr>\n",
              "    <tr>\n",
              "      <th>1</th>\n",
              "      <td>2015-01-04 01:00:00</td>\n",
              "      <td>138</td>\n",
              "      <td>3.0</td>\n",
              "      <td>2.5</td>\n",
              "      <td>93.0</td>\n",
              "      <td>5.0</td>\n",
              "      <td>1.0</td>\n",
              "      <td>0.0</td>\n",
              "      <td>1.0</td>\n",
              "      <td>3.0</td>\n",
              "    </tr>\n",
              "    <tr>\n",
              "      <th>2</th>\n",
              "      <td>2015-01-04 02:00:00</td>\n",
              "      <td>134</td>\n",
              "      <td>2.5</td>\n",
              "      <td>2.5</td>\n",
              "      <td>96.5</td>\n",
              "      <td>0.0</td>\n",
              "      <td>1.0</td>\n",
              "      <td>0.0</td>\n",
              "      <td>1.0</td>\n",
              "      <td>3.0</td>\n",
              "    </tr>\n",
              "    <tr>\n",
              "      <th>3</th>\n",
              "      <td>2015-01-04 03:00:00</td>\n",
              "      <td>72</td>\n",
              "      <td>2.0</td>\n",
              "      <td>2.0</td>\n",
              "      <td>100.0</td>\n",
              "      <td>0.0</td>\n",
              "      <td>1.0</td>\n",
              "      <td>0.0</td>\n",
              "      <td>1.0</td>\n",
              "      <td>3.0</td>\n",
              "    </tr>\n",
              "    <tr>\n",
              "      <th>4</th>\n",
              "      <td>2015-01-04 04:00:00</td>\n",
              "      <td>47</td>\n",
              "      <td>2.0</td>\n",
              "      <td>0.0</td>\n",
              "      <td>93.0</td>\n",
              "      <td>6.5</td>\n",
              "      <td>1.0</td>\n",
              "      <td>0.0</td>\n",
              "      <td>1.0</td>\n",
              "      <td>3.0</td>\n",
              "    </tr>\n",
              "    <tr>\n",
              "      <th>...</th>\n",
              "      <td>...</td>\n",
              "      <td>...</td>\n",
              "      <td>...</td>\n",
              "      <td>...</td>\n",
              "      <td>...</td>\n",
              "      <td>...</td>\n",
              "      <td>...</td>\n",
              "      <td>...</td>\n",
              "      <td>...</td>\n",
              "      <td>...</td>\n",
              "    </tr>\n",
              "    <tr>\n",
              "      <th>17409</th>\n",
              "      <td>2017-01-03 19:00:00</td>\n",
              "      <td>1042</td>\n",
              "      <td>5.0</td>\n",
              "      <td>1.0</td>\n",
              "      <td>81.0</td>\n",
              "      <td>19.0</td>\n",
              "      <td>3.0</td>\n",
              "      <td>0.0</td>\n",
              "      <td>0.0</td>\n",
              "      <td>3.0</td>\n",
              "    </tr>\n",
              "    <tr>\n",
              "      <th>17410</th>\n",
              "      <td>2017-01-03 20:00:00</td>\n",
              "      <td>541</td>\n",
              "      <td>5.0</td>\n",
              "      <td>1.0</td>\n",
              "      <td>81.0</td>\n",
              "      <td>21.0</td>\n",
              "      <td>4.0</td>\n",
              "      <td>0.0</td>\n",
              "      <td>0.0</td>\n",
              "      <td>3.0</td>\n",
              "    </tr>\n",
              "    <tr>\n",
              "      <th>17411</th>\n",
              "      <td>2017-01-03 21:00:00</td>\n",
              "      <td>337</td>\n",
              "      <td>5.5</td>\n",
              "      <td>1.5</td>\n",
              "      <td>78.5</td>\n",
              "      <td>24.0</td>\n",
              "      <td>4.0</td>\n",
              "      <td>0.0</td>\n",
              "      <td>0.0</td>\n",
              "      <td>3.0</td>\n",
              "    </tr>\n",
              "    <tr>\n",
              "      <th>17412</th>\n",
              "      <td>2017-01-03 22:00:00</td>\n",
              "      <td>224</td>\n",
              "      <td>5.5</td>\n",
              "      <td>1.5</td>\n",
              "      <td>76.0</td>\n",
              "      <td>23.0</td>\n",
              "      <td>4.0</td>\n",
              "      <td>0.0</td>\n",
              "      <td>0.0</td>\n",
              "      <td>3.0</td>\n",
              "    </tr>\n",
              "    <tr>\n",
              "      <th>17413</th>\n",
              "      <td>2017-01-03 23:00:00</td>\n",
              "      <td>139</td>\n",
              "      <td>5.0</td>\n",
              "      <td>1.0</td>\n",
              "      <td>76.0</td>\n",
              "      <td>22.0</td>\n",
              "      <td>2.0</td>\n",
              "      <td>0.0</td>\n",
              "      <td>0.0</td>\n",
              "      <td>3.0</td>\n",
              "    </tr>\n",
              "  </tbody>\n",
              "</table>\n",
              "<p>17414 rows × 10 columns</p>\n",
              "</div>"
            ],
            "text/plain": [
              "                 timestamp   cnt   t1   t2    hum  wind_speed  weather_code  \\\n",
              "0      2015-01-04 00:00:00   182  3.0  2.0   93.0         6.0           3.0   \n",
              "1      2015-01-04 01:00:00   138  3.0  2.5   93.0         5.0           1.0   \n",
              "2      2015-01-04 02:00:00   134  2.5  2.5   96.5         0.0           1.0   \n",
              "3      2015-01-04 03:00:00    72  2.0  2.0  100.0         0.0           1.0   \n",
              "4      2015-01-04 04:00:00    47  2.0  0.0   93.0         6.5           1.0   \n",
              "...                    ...   ...  ...  ...    ...         ...           ...   \n",
              "17409  2017-01-03 19:00:00  1042  5.0  1.0   81.0        19.0           3.0   \n",
              "17410  2017-01-03 20:00:00   541  5.0  1.0   81.0        21.0           4.0   \n",
              "17411  2017-01-03 21:00:00   337  5.5  1.5   78.5        24.0           4.0   \n",
              "17412  2017-01-03 22:00:00   224  5.5  1.5   76.0        23.0           4.0   \n",
              "17413  2017-01-03 23:00:00   139  5.0  1.0   76.0        22.0           2.0   \n",
              "\n",
              "       is_holiday  is_weekend  season  \n",
              "0             0.0         1.0     3.0  \n",
              "1             0.0         1.0     3.0  \n",
              "2             0.0         1.0     3.0  \n",
              "3             0.0         1.0     3.0  \n",
              "4             0.0         1.0     3.0  \n",
              "...           ...         ...     ...  \n",
              "17409         0.0         0.0     3.0  \n",
              "17410         0.0         0.0     3.0  \n",
              "17411         0.0         0.0     3.0  \n",
              "17412         0.0         0.0     3.0  \n",
              "17413         0.0         0.0     3.0  \n",
              "\n",
              "[17414 rows x 10 columns]"
            ]
          },
          "execution_count": 12,
          "metadata": {},
          "output_type": "execute_result"
        }
      ],
      "source": [
        "bikes"
      ]
    },
    {
      "cell_type": "code",
      "execution_count": 13,
      "metadata": {
        "colab": {
          "base_uri": "https://localhost:8080/"
        },
        "id": "DaHvXlhRNLnI",
        "outputId": "d1f6b9c4-fe59-4db2-d311-6c15cddb8737"
      },
      "outputs": [
        {
          "data": {
            "text/plain": [
              "1.0     6150\n",
              "2.0     4034\n",
              "3.0     3551\n",
              "7.0     2141\n",
              "4.0     1464\n",
              "26.0      60\n",
              "10.0      14\n",
              "Name: weather_code, dtype: int64"
            ]
          },
          "execution_count": 13,
          "metadata": {},
          "output_type": "execute_result"
        }
      ],
      "source": [
        "bikes.weather_code.value_counts()"
      ]
    },
    {
      "cell_type": "code",
      "execution_count": 14,
      "metadata": {
        "colab": {
          "base_uri": "https://localhost:8080/"
        },
        "id": "YI0u1JclNYYy",
        "outputId": "b91aa1bb-b12e-48c0-f95f-d081c51373d3"
      },
      "outputs": [
        {
          "data": {
            "text/plain": [
              "0.0    4394\n",
              "1.0    4387\n",
              "3.0    4330\n",
              "2.0    4303\n",
              "Name: season, dtype: int64"
            ]
          },
          "execution_count": 14,
          "metadata": {},
          "output_type": "execute_result"
        }
      ],
      "source": [
        "bikes.season.value_counts()"
      ]
    },
    {
      "cell_type": "code",
      "execution_count": 15,
      "metadata": {
        "id": "peTD_WM1NmT9"
      },
      "outputs": [],
      "source": [
        "# menentukan nama kolom yang ingin saya gunakan \n",
        "\n",
        "new_cols_dict = {\n",
        "    'timestamp':'time',\n",
        "    'cnt':'count',\n",
        "    't1':'temp_real_c',\n",
        "    't2':'temp_feels_like_c',\n",
        "    'hum':'humidity_percent',\n",
        "    'wind_speed':'wind_speed_kph',\n",
        "    'weather_code':'weather',\n",
        "    'is_holiday':'is_holiday',\n",
        "    'is_weekend':'is_weekend',\n",
        "    'season':'season'\n",
        "}\n",
        "# memberi nama kolom setelah menentukan nama kolom sesuai keinginan saya\n",
        "bikes.rename(new_cols_dict, axis=1, inplace = True)"
      ]
    },
    {
      "cell_type": "code",
      "execution_count": 16,
      "metadata": {
        "id": "ft3FzTguP_eG"
      },
      "outputs": [],
      "source": [
        "# merubah nilai the humidity mencadi persen\n",
        "bikes.humidity_percent = bikes.humidity_percent / 100"
      ]
    },
    {
      "cell_type": "code",
      "execution_count": 17,
      "metadata": {
        "id": "_H8bHquYRnRt"
      },
      "outputs": [],
      "source": [
        "# membuat nama season bertipe ineger menjadi nama season  sebenarnya\n",
        "\n",
        "season_dict = {\n",
        "    '0,0':'spring',\n",
        "    '1,0':'summer',\n",
        "    '2.0':'autumn',\n",
        "    '3.0':'winter'\n",
        "}\n",
        "\n",
        "# membuat nama weather  bertipe ineger menjadi nama written sebenarnya\n",
        "\n",
        "weather_dict = {\n",
        "    '1.0':'clear',\n",
        "    '2.0':'scattered clouds',\n",
        "    '3.0':'broken clouds',\n",
        "    '4.0':'cloudy',\n",
        "    '7.0':'rain',\n",
        "    '10.0':'rain with thunderstrom',\n",
        "    '26.0':'snowfall'\n",
        "}\n",
        "\n",
        "# merubah the season kolum tipe data ke string\n",
        "bikes.season = bikes.season.astype('str')\n",
        "# mapping the values 0-3 to the actual written seasion \n",
        "bikes.season = bikes.season.map(season_dict)\n",
        "\n",
        "# merubah the weather  kolom tipe data ke string\n",
        "bikes.weather = bikes.weather.astype('str')\n",
        "# mapping the values to the actual written weathers\n",
        "bikes.weather = bikes.weather.map(weather_dict)"
      ]
    },
    {
      "cell_type": "code",
      "execution_count": 18,
      "metadata": {
        "colab": {
          "base_uri": "https://localhost:8080/",
          "height": 519
        },
        "id": "M7FLK39NbsEe",
        "outputId": "585701c3-5151-4634-9c2b-e40e09ef412a"
      },
      "outputs": [
        {
          "data": {
            "text/html": [
              "<div>\n",
              "<style scoped>\n",
              "    .dataframe tbody tr th:only-of-type {\n",
              "        vertical-align: middle;\n",
              "    }\n",
              "\n",
              "    .dataframe tbody tr th {\n",
              "        vertical-align: top;\n",
              "    }\n",
              "\n",
              "    .dataframe thead th {\n",
              "        text-align: right;\n",
              "    }\n",
              "</style>\n",
              "<table border=\"1\" class=\"dataframe\">\n",
              "  <thead>\n",
              "    <tr style=\"text-align: right;\">\n",
              "      <th></th>\n",
              "      <th>time</th>\n",
              "      <th>count</th>\n",
              "      <th>temp_real_c</th>\n",
              "      <th>temp_feels_like_c</th>\n",
              "      <th>humidity_percent</th>\n",
              "      <th>wind_speed_kph</th>\n",
              "      <th>weather</th>\n",
              "      <th>is_holiday</th>\n",
              "      <th>is_weekend</th>\n",
              "      <th>season</th>\n",
              "    </tr>\n",
              "  </thead>\n",
              "  <tbody>\n",
              "    <tr>\n",
              "      <th>0</th>\n",
              "      <td>2015-01-04 00:00:00</td>\n",
              "      <td>182</td>\n",
              "      <td>3.0</td>\n",
              "      <td>2.0</td>\n",
              "      <td>0.930</td>\n",
              "      <td>6.0</td>\n",
              "      <td>broken clouds</td>\n",
              "      <td>0.0</td>\n",
              "      <td>1.0</td>\n",
              "      <td>winter</td>\n",
              "    </tr>\n",
              "    <tr>\n",
              "      <th>1</th>\n",
              "      <td>2015-01-04 01:00:00</td>\n",
              "      <td>138</td>\n",
              "      <td>3.0</td>\n",
              "      <td>2.5</td>\n",
              "      <td>0.930</td>\n",
              "      <td>5.0</td>\n",
              "      <td>clear</td>\n",
              "      <td>0.0</td>\n",
              "      <td>1.0</td>\n",
              "      <td>winter</td>\n",
              "    </tr>\n",
              "    <tr>\n",
              "      <th>2</th>\n",
              "      <td>2015-01-04 02:00:00</td>\n",
              "      <td>134</td>\n",
              "      <td>2.5</td>\n",
              "      <td>2.5</td>\n",
              "      <td>0.965</td>\n",
              "      <td>0.0</td>\n",
              "      <td>clear</td>\n",
              "      <td>0.0</td>\n",
              "      <td>1.0</td>\n",
              "      <td>winter</td>\n",
              "    </tr>\n",
              "    <tr>\n",
              "      <th>3</th>\n",
              "      <td>2015-01-04 03:00:00</td>\n",
              "      <td>72</td>\n",
              "      <td>2.0</td>\n",
              "      <td>2.0</td>\n",
              "      <td>1.000</td>\n",
              "      <td>0.0</td>\n",
              "      <td>clear</td>\n",
              "      <td>0.0</td>\n",
              "      <td>1.0</td>\n",
              "      <td>winter</td>\n",
              "    </tr>\n",
              "    <tr>\n",
              "      <th>4</th>\n",
              "      <td>2015-01-04 04:00:00</td>\n",
              "      <td>47</td>\n",
              "      <td>2.0</td>\n",
              "      <td>0.0</td>\n",
              "      <td>0.930</td>\n",
              "      <td>6.5</td>\n",
              "      <td>clear</td>\n",
              "      <td>0.0</td>\n",
              "      <td>1.0</td>\n",
              "      <td>winter</td>\n",
              "    </tr>\n",
              "    <tr>\n",
              "      <th>5</th>\n",
              "      <td>2015-01-04 05:00:00</td>\n",
              "      <td>46</td>\n",
              "      <td>2.0</td>\n",
              "      <td>2.0</td>\n",
              "      <td>0.930</td>\n",
              "      <td>4.0</td>\n",
              "      <td>clear</td>\n",
              "      <td>0.0</td>\n",
              "      <td>1.0</td>\n",
              "      <td>winter</td>\n",
              "    </tr>\n",
              "    <tr>\n",
              "      <th>6</th>\n",
              "      <td>2015-01-04 06:00:00</td>\n",
              "      <td>51</td>\n",
              "      <td>1.0</td>\n",
              "      <td>-1.0</td>\n",
              "      <td>1.000</td>\n",
              "      <td>7.0</td>\n",
              "      <td>cloudy</td>\n",
              "      <td>0.0</td>\n",
              "      <td>1.0</td>\n",
              "      <td>winter</td>\n",
              "    </tr>\n",
              "    <tr>\n",
              "      <th>7</th>\n",
              "      <td>2015-01-04 07:00:00</td>\n",
              "      <td>75</td>\n",
              "      <td>1.0</td>\n",
              "      <td>-1.0</td>\n",
              "      <td>1.000</td>\n",
              "      <td>7.0</td>\n",
              "      <td>cloudy</td>\n",
              "      <td>0.0</td>\n",
              "      <td>1.0</td>\n",
              "      <td>winter</td>\n",
              "    </tr>\n",
              "    <tr>\n",
              "      <th>8</th>\n",
              "      <td>2015-01-04 08:00:00</td>\n",
              "      <td>131</td>\n",
              "      <td>1.5</td>\n",
              "      <td>-1.0</td>\n",
              "      <td>0.965</td>\n",
              "      <td>8.0</td>\n",
              "      <td>cloudy</td>\n",
              "      <td>0.0</td>\n",
              "      <td>1.0</td>\n",
              "      <td>winter</td>\n",
              "    </tr>\n",
              "    <tr>\n",
              "      <th>9</th>\n",
              "      <td>2015-01-04 09:00:00</td>\n",
              "      <td>301</td>\n",
              "      <td>2.0</td>\n",
              "      <td>-0.5</td>\n",
              "      <td>1.000</td>\n",
              "      <td>9.0</td>\n",
              "      <td>broken clouds</td>\n",
              "      <td>0.0</td>\n",
              "      <td>1.0</td>\n",
              "      <td>winter</td>\n",
              "    </tr>\n",
              "    <tr>\n",
              "      <th>10</th>\n",
              "      <td>2015-01-04 10:00:00</td>\n",
              "      <td>528</td>\n",
              "      <td>3.0</td>\n",
              "      <td>-0.5</td>\n",
              "      <td>0.930</td>\n",
              "      <td>12.0</td>\n",
              "      <td>broken clouds</td>\n",
              "      <td>0.0</td>\n",
              "      <td>1.0</td>\n",
              "      <td>winter</td>\n",
              "    </tr>\n",
              "    <tr>\n",
              "      <th>11</th>\n",
              "      <td>2015-01-04 11:00:00</td>\n",
              "      <td>727</td>\n",
              "      <td>2.0</td>\n",
              "      <td>-1.5</td>\n",
              "      <td>1.000</td>\n",
              "      <td>12.0</td>\n",
              "      <td>broken clouds</td>\n",
              "      <td>0.0</td>\n",
              "      <td>1.0</td>\n",
              "      <td>winter</td>\n",
              "    </tr>\n",
              "    <tr>\n",
              "      <th>12</th>\n",
              "      <td>2015-01-04 12:00:00</td>\n",
              "      <td>862</td>\n",
              "      <td>2.0</td>\n",
              "      <td>-1.5</td>\n",
              "      <td>0.965</td>\n",
              "      <td>13.0</td>\n",
              "      <td>cloudy</td>\n",
              "      <td>0.0</td>\n",
              "      <td>1.0</td>\n",
              "      <td>winter</td>\n",
              "    </tr>\n",
              "    <tr>\n",
              "      <th>13</th>\n",
              "      <td>2015-01-04 13:00:00</td>\n",
              "      <td>916</td>\n",
              "      <td>3.0</td>\n",
              "      <td>-0.5</td>\n",
              "      <td>0.870</td>\n",
              "      <td>15.0</td>\n",
              "      <td>broken clouds</td>\n",
              "      <td>0.0</td>\n",
              "      <td>1.0</td>\n",
              "      <td>winter</td>\n",
              "    </tr>\n",
              "    <tr>\n",
              "      <th>14</th>\n",
              "      <td>2015-01-04 14:00:00</td>\n",
              "      <td>1039</td>\n",
              "      <td>2.5</td>\n",
              "      <td>0.0</td>\n",
              "      <td>0.900</td>\n",
              "      <td>8.0</td>\n",
              "      <td>broken clouds</td>\n",
              "      <td>0.0</td>\n",
              "      <td>1.0</td>\n",
              "      <td>winter</td>\n",
              "    </tr>\n",
              "  </tbody>\n",
              "</table>\n",
              "</div>"
            ],
            "text/plain": [
              "                   time  count  temp_real_c  temp_feels_like_c  \\\n",
              "0   2015-01-04 00:00:00    182          3.0                2.0   \n",
              "1   2015-01-04 01:00:00    138          3.0                2.5   \n",
              "2   2015-01-04 02:00:00    134          2.5                2.5   \n",
              "3   2015-01-04 03:00:00     72          2.0                2.0   \n",
              "4   2015-01-04 04:00:00     47          2.0                0.0   \n",
              "5   2015-01-04 05:00:00     46          2.0                2.0   \n",
              "6   2015-01-04 06:00:00     51          1.0               -1.0   \n",
              "7   2015-01-04 07:00:00     75          1.0               -1.0   \n",
              "8   2015-01-04 08:00:00    131          1.5               -1.0   \n",
              "9   2015-01-04 09:00:00    301          2.0               -0.5   \n",
              "10  2015-01-04 10:00:00    528          3.0               -0.5   \n",
              "11  2015-01-04 11:00:00    727          2.0               -1.5   \n",
              "12  2015-01-04 12:00:00    862          2.0               -1.5   \n",
              "13  2015-01-04 13:00:00    916          3.0               -0.5   \n",
              "14  2015-01-04 14:00:00   1039          2.5                0.0   \n",
              "\n",
              "    humidity_percent  wind_speed_kph        weather  is_holiday  is_weekend  \\\n",
              "0              0.930             6.0  broken clouds         0.0         1.0   \n",
              "1              0.930             5.0          clear         0.0         1.0   \n",
              "2              0.965             0.0          clear         0.0         1.0   \n",
              "3              1.000             0.0          clear         0.0         1.0   \n",
              "4              0.930             6.5          clear         0.0         1.0   \n",
              "5              0.930             4.0          clear         0.0         1.0   \n",
              "6              1.000             7.0         cloudy         0.0         1.0   \n",
              "7              1.000             7.0         cloudy         0.0         1.0   \n",
              "8              0.965             8.0         cloudy         0.0         1.0   \n",
              "9              1.000             9.0  broken clouds         0.0         1.0   \n",
              "10             0.930            12.0  broken clouds         0.0         1.0   \n",
              "11             1.000            12.0  broken clouds         0.0         1.0   \n",
              "12             0.965            13.0         cloudy         0.0         1.0   \n",
              "13             0.870            15.0  broken clouds         0.0         1.0   \n",
              "14             0.900             8.0  broken clouds         0.0         1.0   \n",
              "\n",
              "    season  \n",
              "0   winter  \n",
              "1   winter  \n",
              "2   winter  \n",
              "3   winter  \n",
              "4   winter  \n",
              "5   winter  \n",
              "6   winter  \n",
              "7   winter  \n",
              "8   winter  \n",
              "9   winter  \n",
              "10  winter  \n",
              "11  winter  \n",
              "12  winter  \n",
              "13  winter  \n",
              "14  winter  "
            ]
          },
          "execution_count": 18,
          "metadata": {},
          "output_type": "execute_result"
        }
      ],
      "source": [
        "# cek dataframe untuk melihat mapping berfungsi\n",
        "bikes.head(15)"
      ]
    },
    {
      "cell_type": "code",
      "execution_count": 19,
      "metadata": {
        "id": "jUlvfM20buti"
      },
      "outputs": [],
      "source": [
        "# writing the final dataframe to an excel final that we will use in our taleau visual\n",
        "\n",
        "bikes.to_excel('london_bikes_final.xlsx',sheet_name='Data')"
      ]
    },
    {
      "cell_type": "code",
      "execution_count": 22,
      "metadata": {
        "id": "KhzJkrx6c7O6"
      },
      "outputs": [],
      "source": [
        "bikes.to_csv('london_bikes_csv_final.csv',index= False)"
      ]
    },
    {
      "cell_type": "code",
      "execution_count": null,
      "metadata": {},
      "outputs": [],
      "source": []
    }
  ],
  "metadata": {
    "colab": {
      "provenance": []
    },
    "kernelspec": {
      "display_name": "base",
      "language": "python",
      "name": "python3"
    },
    "language_info": {
      "codemirror_mode": {
        "name": "ipython",
        "version": 3
      },
      "file_extension": ".py",
      "mimetype": "text/x-python",
      "name": "python",
      "nbconvert_exporter": "python",
      "pygments_lexer": "ipython3",
      "version": "3.9.13"
    },
    "vscode": {
      "interpreter": {
        "hash": "1362a89ec3116157496c97e99f9c25bdadd3e550ee8e89100bcbba31aadd7753"
      }
    }
  },
  "nbformat": 4,
  "nbformat_minor": 0
}
